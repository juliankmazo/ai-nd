{
 "cells": [
  {
   "cell_type": "markdown",
   "metadata": {},
   "source": [
    "# Solving a Sudoku with AI\n",
    "This notebook was made for solving the quizes and exercies in the AI nanodegree from Udacity.\n",
    "\n",
    "## Coding the board"
   ]
  },
  {
   "cell_type": "code",
   "execution_count": 51,
   "metadata": {
    "collapsed": false
   },
   "outputs": [
    {
     "name": "stdout",
     "output_type": "stream",
     "text": [
      "['A1', 'A2', 'A3', 'A4', 'A5', 'A6', 'A7', 'A8', 'A9', 'B1', 'B2', 'B3', 'B4', 'B5', 'B6', 'B7', 'B8', 'B9', 'C1', 'C2', 'C3', 'C4', 'C5', 'C6', 'C7', 'C8', 'C9', 'D1', 'D2', 'D3', 'D4', 'D5', 'D6', 'D7', 'D8', 'D9', 'E1', 'E2', 'E3', 'E4', 'E5', 'E6', 'E7', 'E8', 'E9', 'F1', 'F2', 'F3', 'F4', 'F5', 'F6', 'F7', 'F8', 'F9', 'G1', 'G2', 'G3', 'G4', 'G5', 'G6', 'G7', 'G8', 'G9', 'H1', 'H2', 'H3', 'H4', 'H5', 'H6', 'H7', 'H8', 'H9', 'I1', 'I2', 'I3', 'I4', 'I5', 'I6', 'I7', 'I8', 'I9']\n"
     ]
    }
   ],
   "source": [
    "rows = 'ABCDEFGHI'\n",
    "cols = '123456789'\n",
    "possible_digits = '123456789'\n",
    "\n",
    "def cross(a, b):\n",
    "    \"\"\"\n",
    "    Return a list with all concatenations of a letter in\n",
    "    `a` with a letter in `b`\n",
    "    \n",
    "    Args:\n",
    "        a: A string\n",
    "        b: A string\n",
    "    Returns:\n",
    "        A list formed by all the possible concatenations of a\n",
    "        letter in `a` with a letter in `b`\n",
    "    \"\"\"\n",
    "    return [s + t for s in a for t in b]\n",
    "\n",
    "boxes = cross(rows, cols)\n",
    "print(boxes)"
   ]
  },
  {
   "cell_type": "code",
   "execution_count": 52,
   "metadata": {
    "collapsed": false
   },
   "outputs": [
    {
     "name": "stdout",
     "output_type": "stream",
     "text": [
      "First row unit:  ['A1', 'A2', 'A3', 'A4', 'A5', 'A6', 'A7', 'A8', 'A9']\n",
      "First col unit:  ['A1', 'B1', 'C1', 'D1', 'E1', 'F1', 'G1', 'H1', 'I1']\n",
      "First sqr unit:  ['A1', 'A2', 'A3', 'B1', 'B2', 'B3', 'C1', 'C2', 'C3']\n"
     ]
    }
   ],
   "source": [
    "# Lets get all the row units\n",
    "# row_units[0] = ['A1', 'B1', 'C1', 'D1', 'E1', 'F1', 'G1', 'H1', 'I1']\n",
    "row_units = [cross(row, cols) for row in rows]\n",
    "\n",
    "# Same for column units\n",
    "# column_units[0] = ['A1', 'B1', 'C1', 'D1', 'E1', 'F1', 'G1', 'H1', 'I1']\n",
    "column_units = [cross(rows, col) for col in cols]\n",
    "\n",
    "# And now for square units\n",
    "# square_units[0] = ['A1', 'A2', 'A3', 'B1', 'B2', 'B3', 'C1', 'C2', 'C3']\n",
    "square_units = [cross(rs, cs) for rs in ('ABC', 'DEF', 'GHI') for cs in ('123', '456', '789')]\n",
    "\n",
    "unitlist = row_units + column_units + square_units\n",
    "units = dict((box, [unit for unit in unitlist if box in unit]) for box in boxes)\n",
    "peers = dict((box, set(sum(units[box], []))-set([box])) for box in boxes)\n",
    "\n",
    "print('First row unit: ', row_units[0])\n",
    "print('First col unit: ', column_units[0])\n",
    "print('First sqr unit: ', square_units[0])"
   ]
  },
  {
   "cell_type": "code",
   "execution_count": 53,
   "metadata": {
    "collapsed": false
   },
   "outputs": [
    {
     "name": "stdout",
     "output_type": "stream",
     "text": [
      "123456789 123456789     3     |123456789     2     123456789 |    6     123456789 123456789 \n",
      "    9     123456789 123456789 |    3     123456789     5     |123456789 123456789     1     \n",
      "123456789 123456789     1     |    8     123456789     6     |    4     123456789 123456789 \n",
      "------------------------------+------------------------------+------------------------------\n",
      "123456789 123456789     8     |    1     123456789     2     |    9     123456789 123456789 \n",
      "    7     123456789 123456789 |123456789 123456789 123456789 |123456789 123456789     8     \n",
      "123456789 123456789     6     |    7     123456789     8     |    2     123456789 123456789 \n",
      "------------------------------+------------------------------+------------------------------\n",
      "123456789 123456789     2     |    6     123456789     9     |    5     123456789 123456789 \n",
      "    8     123456789 123456789 |    2     123456789     3     |123456789 123456789     9     \n",
      "123456789 123456789     5     |123456789     1     123456789 |    3     123456789 123456789 \n"
     ]
    }
   ],
   "source": [
    "def display(values):\n",
    "    \"\"\"\n",
    "    Prints the values of a sudoku as a 2-D grid.\n",
    "    \n",
    "    Args:\n",
    "        values: A dict representing a sodoku.\n",
    "        \n",
    "    Returns:\n",
    "        `None`\n",
    "    \"\"\"\n",
    "    width = 1 + max(len(values[s]) for s in boxes)\n",
    "    line = '+'.join(['-' * (width * 3)] * 3)\n",
    "    for row in rows:\n",
    "        print(''.join(values[row + col].center(width) + ('|' if col in '36' else '') for col in cols))\n",
    "        if row in 'CF': print(line)\n",
    "    return\n",
    "\n",
    "def grid_values(grid):\n",
    "    \"\"\"\n",
    "    Returns a dict that represents a sudoku.\n",
    "    \n",
    "    Args:\n",
    "        grid: A string with the starting numbers\n",
    "        for all the boxes in a sudoku. Empty boxes\n",
    "        can be represented as dots `.`.\n",
    "        Example: `'..3.2.6.'...`\n",
    "        \n",
    "    Returns:\n",
    "        A dict that represents a sudoku. The keys\n",
    "        will be the boxes labels and it's value will be the number\n",
    "        or a dot `.` if the box is empty.\n",
    "    \"\"\"\n",
    "    assert len(grid) == 81, \"The lenght of `grid` should be 81. A 9x9 sudoku\"\n",
    "    chars = []\n",
    "    for char in grid:\n",
    "        if char in possible_digits: chars.append(char)\n",
    "        if char == '.': chars.append(possible_digits)\n",
    "    return dict(zip(boxes, chars))\n",
    "\n",
    "\n",
    "\n",
    "sudoku_starting_dict = grid_values('..3.2.6..9..3.5..1..18.64....81.29..7.......8..67.82....26.95..8..2.3..9..5.1.3..')\n",
    "display(sudoku_starting_dict)\n"
   ]
  },
  {
   "cell_type": "markdown",
   "metadata": {},
   "source": [
    "## Strategy 1: Elimination\n",
    "If a box has a value assigned, the none of the peers of this box can have this value\n",
    "![Image from udacity AI nanodegree](https://i.imgur.com/GID0eWu.png)"
   ]
  },
  {
   "cell_type": "code",
   "execution_count": 54,
   "metadata": {
    "collapsed": false
   },
   "outputs": [
    {
     "name": "stdout",
     "output_type": "stream",
     "text": [
      "\n",
      " Sudoku after eliminate technique. \n",
      "\n",
      "   45    4578    3   |   49     2     147  |   6     5789    57  \n",
      "   9    24678    47  |   3      47     5   |   78    278     1   \n",
      "   25    257     1   |   8      79     6   |   4    23579   2357 \n",
      "---------------------+---------------------+---------------------\n",
      "  345    345     8   |   1     3456    2   |   9    34567  34567 \n",
      "   7    123459   49  |  459   34569    4   |   1    13456    8   \n",
      "  1345  13459    6   |   7     3459    8   |   2     1345   345  \n",
      "---------------------+---------------------+---------------------\n",
      "  134    1347    2   |   6     478     9   |   5     1478    47  \n",
      "   8     1467    47  |   2     457     3   |   17    1467    9   \n",
      "   46    4679    5   |   4      1      47  |   3    24678   2467 \n"
     ]
    }
   ],
   "source": [
    "def eliminate(sudoku_dict):\n",
    "    \"\"\"\n",
    "    Returns a sudoku dict after applying the eliminate technique.\n",
    "    \n",
    "    Args:\n",
    "        sudoku_dict: A dict representing the sudoku. It'll contain\n",
    "        in each box the value of it, or the possible values.\n",
    "        \n",
    "    Returns:\n",
    "        A sudoku dict after applying the eliminate technique in all\n",
    "        the boxes.\n",
    "    \"\"\"\n",
    "    solved_values = [box for box in sudoku_dict.keys() if len(sudoku_dict[box]) == 1]\n",
    "    for box in solved_values:\n",
    "        value = sudoku_dict[box]\n",
    "        for peer in peers[box]:\n",
    "            sudoku_dict[peer] = sudoku_dict[peer].replace(value, '')\n",
    "            \n",
    "    return sudoku_dict\n",
    "\n",
    "sudoku_after_eliminate = eliminate(sudoku_starting_dict)\n",
    "print('\\n Sudoku after eliminate technique. \\n')\n",
    "display(sudoku_after_eliminate)"
   ]
  },
  {
   "cell_type": "markdown",
   "metadata": {},
   "source": [
    "## Strategy 2: Only Choice\n",
    "If there is a box in a unit which would allow a certain digit, then that bux must be assigned that digit\n",
    "![Image from udacity AI nanodegree](https://i.imgur.com/G3ACj8v.png)"
   ]
  },
  {
   "cell_type": "code",
   "execution_count": 55,
   "metadata": {
    "collapsed": false
   },
   "outputs": [
    {
     "name": "stdout",
     "output_type": "stream",
     "text": [
      "  45    8     3   |  9     2     1   |  6    5789   57  \n",
      "  9     6     47  |  3     4     5   |  8    278    1   \n",
      "  2    257    1   |  8     7     6   |  4   23579  2357 \n",
      "------------------+------------------+------------------\n",
      " 345   345    8   |  1    3456   2   |  9   34567 34567 \n",
      "  7     2     9   |  5   34569   4   |  1   13456   8   \n",
      " 1345 13459   6   |  7    3459   8   |  2    1345  345  \n",
      "------------------+------------------+------------------\n",
      " 134   1347   2   |  6     8     9   |  5    1478   47  \n",
      "  8    1467   47  |  2     5     3   |  17    6     9   \n",
      "  6     9     5   |  4     1     7   |  3     8     2   \n"
     ]
    }
   ],
   "source": [
    "def only_choice(sudoku_dict):\n",
    "    \"\"\"\n",
    "    It runs through all the units of a sudoku\n",
    "    and it applies the only choice technique.\n",
    "    \n",
    "    Args: \n",
    "        sudoku_dict: A dict representing the sudoku.\n",
    "    Returns:\n",
    "        A sudoku dict after applying the only choice technique.\n",
    "    \"\"\"\n",
    "    for unit in unitlist:\n",
    "        for value in possible_digits:\n",
    "            value_places = [box for box in unit if value in sudoku_dict[box]]\n",
    "            if len(value_places) == 1:\n",
    "                sudoku_dict[value_places[0]] = value\n",
    "                \n",
    "    return sudoku_dict\n",
    "\n",
    "sudoku_after_only_choice= only_choice(sudoku_after_eliminate)\n",
    "display(sudoku_after_only_choice)"
   ]
  },
  {
   "cell_type": "code",
   "execution_count": null,
   "metadata": {
    "collapsed": true
   },
   "outputs": [],
   "source": []
  }
 ],
 "metadata": {
  "kernelspec": {
   "display_name": "Python [default]",
   "language": "python",
   "name": "python3"
  },
  "language_info": {
   "codemirror_mode": {
    "name": "ipython",
    "version": 3
   },
   "file_extension": ".py",
   "mimetype": "text/x-python",
   "name": "python",
   "nbconvert_exporter": "python",
   "pygments_lexer": "ipython3",
   "version": "3.5.2"
  }
 },
 "nbformat": 4,
 "nbformat_minor": 2
}
