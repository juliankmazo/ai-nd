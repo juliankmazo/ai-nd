{
 "cells": [
  {
   "cell_type": "markdown",
   "metadata": {},
   "source": [
    "# Solving a Sudoku with AI\n",
    "## Coding the board"
   ]
  },
  {
   "cell_type": "code",
   "execution_count": 1,
   "metadata": {
    "collapsed": false
   },
   "outputs": [
    {
     "name": "stdout",
     "output_type": "stream",
     "text": [
      "['A1', 'A2', 'A3', 'A4', 'A5', 'A6', 'A7', 'A8', 'A9', 'B1', 'B2', 'B3', 'B4', 'B5', 'B6', 'B7', 'B8', 'B9', 'C1', 'C2', 'C3', 'C4', 'C5', 'C6', 'C7', 'C8', 'C9', 'D1', 'D2', 'D3', 'D4', 'D5', 'D6', 'D7', 'D8', 'D9', 'E1', 'E2', 'E3', 'E4', 'E5', 'E6', 'E7', 'E8', 'E9', 'F1', 'F2', 'F3', 'F4', 'F5', 'F6', 'F7', 'F8', 'F9', 'G1', 'G2', 'G3', 'G4', 'G5', 'G6', 'G7', 'G8', 'G9', 'H1', 'H2', 'H3', 'H4', 'H5', 'H6', 'H7', 'H8', 'H9', 'I1', 'I2', 'I3', 'I4', 'I5', 'I6', 'I7', 'I8', 'I9']\n"
     ]
    }
   ],
   "source": [
    "rows = 'ABCDEFGHI'\n",
    "cols = '123456789'\n",
    "\n",
    "def cross(a, b):\n",
    "    \"\"\"\n",
    "    Return a list with all concatenations of a letter in\n",
    "    `a` with a letter in `b`\n",
    "    \n",
    "    Args:\n",
    "        a: A string\n",
    "        b: A string\n",
    "    Returns:\n",
    "        A list formed by all the possible concatenations of a\n",
    "        letter in `a` with a letter in `b`\n",
    "    \"\"\"\n",
    "    return [s + t for s in a for t in b]\n",
    "\n",
    "boxes = cross(rows, cols)\n",
    "print(boxes)"
   ]
  },
  {
   "cell_type": "code",
   "execution_count": 9,
   "metadata": {
    "collapsed": false
   },
   "outputs": [
    {
     "name": "stdout",
     "output_type": "stream",
     "text": [
      "First row unit:  ['A1', 'A2', 'A3', 'A4', 'A5', 'A6', 'A7', 'A8', 'A9']\n",
      "First col unit:  ['A1', 'B1', 'C1', 'D1', 'E1', 'F1', 'G1', 'H1', 'I1']\n",
      "First sqr unit:  ['A1', 'A2', 'A3', 'B1', 'B2', 'B3', 'C1', 'C2', 'C3']\n"
     ]
    }
   ],
   "source": [
    "# Lets get all the row units\n",
    "# row_units[0] = ['A1', 'B1', 'C1', 'D1', 'E1', 'F1', 'G1', 'H1', 'I1']\n",
    "row_units = [cross(row, cols) for row in rows]\n",
    "\n",
    "# Same for column units\n",
    "# column_units[0] = ['A1', 'B1', 'C1', 'D1', 'E1', 'F1', 'G1', 'H1', 'I1']\n",
    "column_units = [cross(rows, col) for col in cols]\n",
    "\n",
    "# And now for square units\n",
    "# square_units[0] = ['A1', 'A2', 'A3', 'B1', 'B2', 'B3', 'C1', 'C2', 'C3']\n",
    "square_units = [cross(rs, cs) for rs in ('ABC', 'DEF', 'GHI') for cs in ('123', '456', '789')]\n",
    "\n",
    "unitlist = row_units + column_units + square_units\n",
    "\n",
    "print('First row unit: ', row_units[0])\n",
    "print('First col unit: ', column_units[0])\n",
    "print('First sqr unit: ', square_units[0])"
   ]
  },
  {
   "cell_type": "code",
   "execution_count": 24,
   "metadata": {
    "collapsed": false
   },
   "outputs": [
    {
     "name": "stdout",
     "output_type": "stream",
     "text": [
      ". . 3 |. 2 . |6 . . \n",
      "9 . . |3 . 5 |. . 1 \n",
      ". . 1 |8 . 6 |4 . . \n",
      "------+------+------\n",
      ". . 8 |1 . 2 |9 . . \n",
      "7 . . |. . . |. . 8 \n",
      ". . 6 |7 . 8 |2 . . \n",
      "------+------+------\n",
      ". . 2 |6 . 9 |5 . . \n",
      "8 . . |2 . 3 |. . 9 \n",
      ". . 5 |. 1 . |3 . . \n"
     ]
    }
   ],
   "source": [
    "def display(values):\n",
    "    \"\"\"\n",
    "    Prints the values of a sudoku as a 2-D grid.\n",
    "    \n",
    "    Args:\n",
    "        values: A dict representing a sodoku.\n",
    "        \n",
    "    Returns:\n",
    "        `None`\n",
    "    \"\"\"\n",
    "    width = 1 + max(len(values[s]) for s in boxes)\n",
    "    line = '+'.join(['-' * (width * 3)] * 3)\n",
    "    for row in rows:\n",
    "        print(''.join(values[row + col].center(width) + ('|' if col in '36' else '') for col in cols))\n",
    "        if row in 'CF': print(line)\n",
    "    return\n",
    "\n",
    "def grid_values(grid):\n",
    "    \"\"\"\n",
    "    Returns a dict that represents a sudoku.\n",
    "    \n",
    "    Args:\n",
    "        grid: A string with the starting numbers\n",
    "        for all the boxes in a sudoku. Empty boxes\n",
    "        can be represented as dots `.`.\n",
    "        Example: `'..3.2.6.'...`\n",
    "        \n",
    "    Returns:\n",
    "        A dict that represents a sudoku. The keys\n",
    "        will be the boxes labels and it's value will be the number\n",
    "        or a dot `.` if the box is empty.\n",
    "    \"\"\"\n",
    "    assert len(grid) == 81, \"The lenght of `grid` should be 81. A 9x9 sudoku\"\n",
    "    chars = []\n",
    "    for char in grid:\n",
    "        chars.append(char)\n",
    "    return dict(zip(boxes, chars))\n",
    "\n",
    "display(grid_values('..3.2.6..9..3.5..1..18.64....81.29..7.......8..67.82....26.95..8..2.3..9..5.1.3..'))"
   ]
  },
  {
   "cell_type": "code",
   "execution_count": null,
   "metadata": {
    "collapsed": true
   },
   "outputs": [],
   "source": []
  }
 ],
 "metadata": {
  "kernelspec": {
   "display_name": "Python [default]",
   "language": "python",
   "name": "python3"
  },
  "language_info": {
   "codemirror_mode": {
    "name": "ipython",
    "version": 3
   },
   "file_extension": ".py",
   "mimetype": "text/x-python",
   "name": "python",
   "nbconvert_exporter": "python",
   "pygments_lexer": "ipython3",
   "version": "3.5.2"
  }
 },
 "nbformat": 4,
 "nbformat_minor": 2
}
